{
 "cells": [
  {
   "cell_type": "code",
   "execution_count": 14,
   "metadata": {
    "colab": {
     "base_uri": "https://localhost:8080/"
    },
    "executionInfo": {
     "elapsed": 21815,
     "status": "ok",
     "timestamp": 1667234557531,
     "user": {
      "displayName": "Kapchenko Nikita",
      "userId": "13103833174454489193"
     },
     "user_tz": -60
    },
    "id": "SaOlNWG3sIxo",
    "outputId": "bbc85c13-4edc-4950-8b40-97b0ac0a49c8"
   },
   "outputs": [],
   "source": [
    "# Use below line for demo in external colabs\n",
    "!pip install -q torchdata torchtext spacy==3.2 portalocker altair GPUtil\n",
    "!python -m spacy download de_core_news_sm\n",
    "!python -m spacy download en_core_web_sm\n",
    "!pip install -q git+https://github.com/nikitakapitan/transflate.git"
   ]
  },
  {
   "cell_type": "code",
   "execution_count": 2,
   "metadata": {
    "executionInfo": {
     "elapsed": 381,
     "status": "ok",
     "timestamp": 1667235645442,
     "user": {
      "displayName": "Kapchenko Nikita",
      "userId": "13103833174454489193"
     },
     "user_tz": -60
    },
    "id": "WN8Jccx1sYXG"
   },
   "outputs": [],
   "source": [
    "import warnings\n",
    "warnings.filterwarnings('ignore')\n",
    "\n",
    "import torch\n",
    "import transflate\n",
    "\n",
    "from transflate.data.token import load_tokenizers\n",
    "from transflate.data.vocab import load_vocab\n",
    "\n",
    "from transflate.data.dataloader import create_dataloaders\n",
    "\n",
    "from transflate.main import make_model\n",
    "from transflate.output import check_outputs\n",
    "\n",
    "from torch.utils.data import DataLoader\n",
    "\n",
    "\n",
    "%load_ext autoreload\n",
    "%autoreload 2"
   ]
  },
  {
   "cell_type": "code",
   "execution_count": 3,
   "metadata": {},
   "outputs": [
    {
     "name": "stdout",
     "output_type": "stream",
     "text": [
      "Finished.\n",
      "Vocabulary sizes:\n",
      "len: SRC=8315 TGT=6384\n"
     ]
    }
   ],
   "source": [
    "spacy_de, spacy_en = load_tokenizers()\n",
    "vocab_src, vocab_tgt = load_vocab(spacy_de=spacy_de, spacy_en=spacy_en)"
   ]
  },
  {
   "cell_type": "code",
   "execution_count": 4,
   "metadata": {},
   "outputs": [
    {
     "data": {
      "text/plain": [
       "<All keys matched successfully>"
      ]
     },
     "execution_count": 4,
     "metadata": {},
     "output_type": "execute_result"
    }
   ],
   "source": [
    "data_setup = {\n",
    "    'max_padding' : 128,\n",
    "}\n",
    "\n",
    "architecture = {\n",
    "        'src_vocab_len' : len(vocab_src),\n",
    "        'tgt_vocab_len' : len(vocab_tgt),\n",
    "        'N' : 6, # loop\n",
    "        'd_model' : 512, # emb\n",
    "        'd_ff' : 2048,\n",
    "        'h' : 8,\n",
    "        'p_dropout' : 0.1\n",
    "    }\n",
    "\n",
    "model = make_model(\n",
    "    src_vocab_len=architecture['src_vocab_len'],\n",
    "    tgt_vocab_len=architecture['tgt_vocab_len'],\n",
    "    N=architecture['N'],\n",
    "    d_model=architecture['d_model'],\n",
    "    d_ff=architecture['d_ff'],\n",
    "    h=architecture['h'],\n",
    "    dropout=architecture['p_dropout'],\n",
    "    )\n",
    "\n",
    "model.load_state_dict(\n",
    "    torch.load(\"../../multi30k_model_final.pt\", map_location=torch.device(\"cpu\"))\n",
    ")\n",
    "\n"
   ]
  },
  {
   "cell_type": "code",
   "execution_count": 5,
   "metadata": {},
   "outputs": [
    {
     "name": "stdout",
     "output_type": "stream",
     "text": [
      "Step.0 Raw text:  Vier Jungen spielen mit einem großen Hund im Hof\n",
      "Step.1 Processed text: \n",
      " tensor([[  0, 128,  92,  58,  10,   6,  80,  33,  22, 433,   1,   2,   2,   2,\n",
      "           2,   2,   2,   2,   2,   2,   2,   2,   2,   2,   2,   2,   2,   2,\n",
      "           2,   2,   2,   2,   2,   2,   2,   2,   2,   2,   2,   2,   2,   2,\n",
      "           2,   2,   2,   2,   2,   2,   2,   2,   2,   2,   2,   2,   2,   2,\n",
      "           2,   2,   2,   2,   2,   2,   2,   2,   2,   2,   2,   2,   2,   2,\n",
      "           2,   2,   2,   2,   2,   2,   2,   2,   2,   2,   2,   2,   2,   2,\n",
      "           2,   2,   2,   2,   2,   2,   2,   2,   2,   2,   2,   2,   2,   2,\n",
      "           2,   2,   2,   2,   2,   2,   2,   2,   2,   2,   2,   2,   2,   2,\n",
      "           2,   2,   2,   2,   2,   2,   2,   2,   2,   2,   2,   2,   2,   2,\n",
      "           2,   2]])\n"
     ]
    }
   ],
   "source": [
    "# input text\n",
    "text = \"Vier Jungen spielen mit einem großen Hund im Hof\"\n",
    "print('Step.0 Raw text: ', text)\n",
    "text = [(text, \"\")]\n",
    "\n",
    "tokenize_de = lambda text : [tok.text for tok in spacy_de.tokenizer(text)]\n",
    "tokenize_en = lambda text : [tok.text for tok in spacy_en.tokenizer(text)]\n",
    "\n",
    "collate_fn = lambda x:  transflate.data.Batch.collate_batch(\n",
    "            batch=x,\n",
    "            src_pipeline=tokenize_de,\n",
    "            tgt_pipeline=tokenize_en,\n",
    "            src_vocab=vocab_src,\n",
    "            tgt_vocab=vocab_tgt,\n",
    "            device=torch.device(\"cpu\"),\n",
    "            max_padding=data_setup['max_padding'],\n",
    "            pad_id=vocab_src.get_stoi()[\"<blank>\"],\n",
    "        )\n",
    "\n",
    "text_dataloader = DataLoader(text, collate_fn = collate_fn)\n",
    "print('Step.1 Processed text: \\n', list(text_dataloader)[0][0]) "
   ]
  },
  {
   "cell_type": "code",
   "execution_count": 6,
   "metadata": {},
   "outputs": [
    {
     "name": "stdout",
     "output_type": "stream",
     "text": [
      "Model output:  <s> Four boys are playing with a large dog in a yard . </s>\n"
     ]
    }
   ],
   "source": [
    "# check outputs\n",
    "pad_idx = 2\n",
    "eos_string=\"</s>\"\n",
    "\n",
    "b = next(iter(text_dataloader))\n",
    "rb = transflate.data.Batch.Batch(src=b[0], tgt=b[1], pad=pad_idx)\n",
    "\n",
    "model_out = transflate.output.greedy_decode(model, rb.src, rb.src_mask, max_len=72, start_symbol=0)[0]\n",
    "model_txt = (\" \".join([vocab_tgt.get_itos()[x] for x in model_out if x!= pad_idx]).split(eos_string, 1)[0] + eos_string)\n",
    "\n",
    "print('Model output: ', model_txt) # '<s> Four boys are playing with a large dog in the yard . </s>'\n"
   ]
  },
  {
   "attachments": {},
   "cell_type": "markdown",
   "metadata": {},
   "source": [
    "### Break-Down : Input Preprocessing"
   ]
  },
  {
   "cell_type": "code",
   "execution_count": null,
   "metadata": {},
   "outputs": [],
   "source": [
    "text = \"Vier Jungen spielen mit einem großen Hund im Hof\"\n",
    "print(f\"Step.0 {text=}\")\n",
    "print('*-*-* Start DATA part *-*-*')\n",
    "text = [tok.text for tok in spacy_de.tokenizer(text)]\n",
    "print(f\"Step.1 {text=}\")\n",
    "text = vocab_src(text)\n",
    "print(f\"Step.2 {text=}\")\n",
    "\n",
    "bs_id = torch.tensor([0])  #0 index for <s>  \n",
    "eos_id = torch.tensor([1]) #1 index for </s>\n",
    "text = torch.cat([bs_id, torch.tensor(text), eos_id])\n",
    "print(f\"Step.3 {text=}\")\n",
    "\n",
    "text = [torch.nn.functional.pad(\n",
    "    input=text, \n",
    "    pad=(0, data_setup['max_padding'] - len(text) ),\n",
    "    value=vocab_src.get_stoi()[\"<blank>\"])]\n",
    "print(f\"Step.4 {text[0][:42]=}\")\n",
    "\n",
    "\n",
    "text = torch.stack(text) # add batch dimension\n",
    "print(text.shape)\n",
    "dl = DataLoader(text)\n",
    "print('*-*-* End DATA part *-*-*')"
   ]
  },
  {
   "attachments": {},
   "cell_type": "markdown",
   "metadata": {},
   "source": [
    "### Break-Down : Encoder"
   ]
  },
  {
   "cell_type": "code",
   "execution_count": 7,
   "metadata": {},
   "outputs": [
    {
     "name": "stdout",
     "output_type": "stream",
     "text": [
      "Step.0 text='Vier Jungen spielen mit einem großen Hund im Hof'\n",
      "*-*-* Start DATA part *-*-*\n",
      "Step.1 text=['Vier', 'Jungen', 'spielen', 'mit', 'einem', 'großen', 'Hund', 'im', 'Hof']\n",
      "Step.2 text=[128, 92, 58, 10, 6, 80, 33, 22, 433]\n",
      "Step.3 text=tensor([  0, 128,  92,  58,  10,   6,  80,  33,  22, 433,   1])\n",
      "Step.4 text[0][:42]=tensor([  0, 128,  92,  58,  10,   6,  80,  33,  22, 433,   1,   2,   2,   2,\n",
      "          2,   2,   2,   2,   2,   2,   2,   2,   2,   2,   2,   2,   2,   2,\n",
      "          2,   2,   2,   2,   2,   2,   2,   2,   2,   2,   2,   2,   2,   2])\n",
      "torch.Size([1, 128])\n",
      "*-*-* End DATA part *-*-*\n",
      "=-=-=-= Start MODEL part =-=-=-=\n",
      "Step.0 Input Tensor src.shape=torch.Size([1, 128])\n",
      "Step.1 Embedding src.shape=torch.Size([1, 128, 512])\n",
      "Step.2 Positional Encoder src.shape=torch.Size([1, 128, 512])\n",
      "Step.3 Layer Norm residual_src1.shape=torch.Size([1, 128, 512])\n",
      "Step.4.1 Query-Key-Value query.shape=torch.Size([1, 128, 512]) key.shape=torch.Size([1, 128, 512]) value.shape=torch.Size([1, 128, 512])\n",
      "Step.4.2 Split to 8 heads\n",
      " \tquery.shape=torch.Size([1, 8, 128, 64])\n",
      " \tkey.shape=torch.Size([1, 8, 128, 64])\n",
      " \tvalue.shape=torch.Size([1, 8, 128, 64])\n",
      "Step.4.3 Attention \n",
      " \tkey_transpose.shape=torch.Size([1, 8, 64, 128])\n",
      " \tscores.shape=torch.Size([1, 8, 128, 128])\n",
      " \tp_attn.shape=torch.Size([1, 8, 128, 128])\n",
      "     \theaded_context.shape=torch.Size([1, 8, 128, 64])\n",
      " \tcontext.shape=torch.Size([1, 128, 512])\n",
      " \tsrc.shape=torch.Size([1, 128, 512])\n",
      "Step.5 Layer Norm src.shape=torch.Size([1, 128, 512])\n",
      "Step.6 Layer Norm residual_src2.shape=torch.Size([1, 128, 512])\n",
      "Step.7 Layer Norm src.shape=torch.Size([1, 128, 512])\n",
      "Step.8 Layer Norm src.shape=torch.Size([1, 128, 512])\n",
      "Step.9 Final Shape: src.shape=torch.Size([1, 128, 512])\n"
     ]
    }
   ],
   "source": [
    "src = next(iter(dl))\n",
    "src_mask = torch.ones_like(text).unsqueeze(0)\n",
    "print(f\"Step.0 Input Tensor {src.shape=}\")\n",
    "\n",
    "src_emb = torch.nn.Embedding(architecture['src_vocab_len'], architecture['d_model'])\n",
    "src = src_emb(src)\n",
    "print(f\"Step.1 Embedding {src.shape=}\")\n",
    "\n",
    "src_pos_enc = transflate.PositionalEncoding.PositionalEncoding(d_model=architecture['d_model'], dropout=0.1)\n",
    "src = src_pos_enc(src)\n",
    "print(f\"Step.2 Positional Encoder {src.shape=}\")\n",
    "\n",
    "residual_src1 = src.clone()\n",
    "print(f\"Step.3 Layer Norm {residual_src1.shape=}\")\n",
    "\n",
    "### +-+-+-+ Multi-Headed Attention +-+-+-+\n",
    "\n",
    "# Query-Key-Value\n",
    "n_heads = 8\n",
    "d_head = architecture['d_model'] // n_heads\n",
    "\n",
    "q_fc = torch.nn.Linear(architecture['d_model'], architecture['d_model'])\n",
    "k_fc = torch.nn.Linear(architecture['d_model'], architecture['d_model'])\n",
    "v_fc = torch.nn.Linear(architecture['d_model'], architecture['d_model'])\n",
    "final_fc = torch.nn.Linear(architecture['d_model'], architecture['d_model'])\n",
    "attn_dropuot = torch.nn.Dropout(p=0.1)\n",
    "\n",
    "attn_from = src\n",
    "attn_to = src # self-attn\n",
    "value = src\n",
    "mask = src_mask\n",
    "\n",
    "query = q_fc(attn_from)\n",
    "key = k_fc(attn_to)\n",
    "value = v_fc(value)\n",
    "print(f\"Step.4.1 Query-Key-Value {query.shape=} {key.shape=} {value.shape=}\")\n",
    "\n",
    "# split to n_heads \n",
    "n_batches = src.size(0)\n",
    "n_tokens = src.size(1)\n",
    "\n",
    "query = query.view(n_batches, n_tokens, n_heads, d_head) .transpose(1, 2)\n",
    "key = key.view(n_batches, n_tokens, n_heads, d_head).transpose(1, 2)\n",
    "value = value.view(n_batches, n_tokens, n_heads, d_head).transpose(1, 2)\n",
    "print(f\"Step.4.2 Split to {n_heads} heads\\n \\t{query.shape=}\\n \\t{key.shape=}\\n \\t{value.shape=}\")\n",
    "\n",
    "# Attention\n",
    "key_transpose = key.transpose(-2, -1)\n",
    "scores = torch.matmul(query, key_transpose) / (d_head**0.5)\n",
    "scores = scores.masked_fill(mask, -1e9)\n",
    "p_attn = scores.softmax(dim=-1)\n",
    "# p_attn = attn_dropuot(p_attn)\n",
    "\n",
    "headed_context = torch.matmul(p_attn, value)\n",
    "\n",
    "context = headed_context.transpose(1,2).contiguous().view(n_batches, n_tokens, n_heads * d_head)\n",
    "\n",
    "src = final_fc(context)\n",
    "\n",
    "print(f\"Step.4.3 Attention \\n \\t{key_transpose.shape=}\\n \\t{scores.shape=}\\n \\t{p_attn.shape=}\\n \\\n",
    "    \\t{headed_context.shape=}\\n \\t{context.shape=}\\n \\t{src.shape=}\")\n",
    "\n",
    "\n",
    "norm1 = transflate.LayerNorm.LayerNorm(architecture['d_model'])\n",
    "src = norm1(src)\n",
    "print(f\"Step.5 Layer Norm {src.shape=}\")\n",
    "\n",
    "src = residual_src1 + src    # end residual 1\n",
    "residual_src2 = src.clone()  # start residual 2\n",
    "print(f\"Step.6 Layer Norm {residual_src2.shape=}\")\n",
    "\n",
    "\n",
    "# Feed Forward\n",
    "w_1 = torch.nn.Linear(architecture['d_model'], architecture['d_ff'])\n",
    "w_2 = torch.nn.Linear(architecture['d_ff'], architecture['d_model'])\n",
    "fc_dropuot = torch.nn.Dropout(p=0.1)\n",
    "\n",
    "fc1 = w_1(src).relu() \n",
    "# src = fc_dropuot(src)\n",
    "src = w_2(fc1)\n",
    "print(f\"Step.7 Layer Norm {src.shape=}\")\n",
    "\n",
    "norm2 = transflate.LayerNorm.LayerNorm(architecture['d_model'])\n",
    "src = norm2(src)\n",
    "print(f\"Step.8 Layer Norm {src.shape=}\")\n",
    "\n",
    "src = residual_src2 + src    # end residual 1\n",
    "print(f\"Step.9 Final Shape: {src.shape=}\")\n",
    "\n"
   ]
  },
  {
   "attachments": {},
   "cell_type": "markdown",
   "metadata": {},
   "source": [
    "### Break-Down : Decoder"
   ]
  },
  {
   "cell_type": "code",
   "execution_count": null,
   "metadata": {},
   "outputs": [],
   "source": []
  }
 ],
 "metadata": {
  "colab": {
   "authorship_tag": "ABX9TyMBa/2JyW7GewSx6ZS912U7",
   "collapsed_sections": [],
   "provenance": []
  },
  "kernelspec": {
   "display_name": "Python 3.10.6 ('venvai')",
   "language": "python",
   "name": "python3"
  },
  "language_info": {
   "codemirror_mode": {
    "name": "ipython",
    "version": 3
   },
   "file_extension": ".py",
   "mimetype": "text/x-python",
   "name": "python",
   "nbconvert_exporter": "python",
   "pygments_lexer": "ipython3",
   "version": "3.11.3"
  },
  "vscode": {
   "interpreter": {
    "hash": "0159b81555e194df7357f3ec66ac7a725116f7bdd06d05856166e90d27da3b92"
   }
  }
 },
 "nbformat": 4,
 "nbformat_minor": 1
}
