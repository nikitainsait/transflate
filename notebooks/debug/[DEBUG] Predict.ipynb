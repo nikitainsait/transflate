{
 "cells": [
  {
   "cell_type": "code",
   "execution_count": 14,
   "metadata": {
    "colab": {
     "base_uri": "https://localhost:8080/"
    },
    "executionInfo": {
     "elapsed": 21815,
     "status": "ok",
     "timestamp": 1667234557531,
     "user": {
      "displayName": "Kapchenko Nikita",
      "userId": "13103833174454489193"
     },
     "user_tz": -60
    },
    "id": "SaOlNWG3sIxo",
    "outputId": "bbc85c13-4edc-4950-8b40-97b0ac0a49c8"
   },
   "outputs": [],
   "source": [
    "# Use below line for demo in external colabs\n",
    "!pip install -q torchdata torchtext spacy==3.2 portalocker altair GPUtil\n",
    "!python -m spacy download de_core_news_sm\n",
    "!python -m spacy download en_core_web_sm\n",
    "!pip install -q git+https://github.com/nikitakapitan/transflate.git"
   ]
  },
  {
   "cell_type": "code",
   "execution_count": 37,
   "metadata": {
    "executionInfo": {
     "elapsed": 381,
     "status": "ok",
     "timestamp": 1667235645442,
     "user": {
      "displayName": "Kapchenko Nikita",
      "userId": "13103833174454489193"
     },
     "user_tz": -60
    },
    "id": "WN8Jccx1sYXG"
   },
   "outputs": [
    {
     "name": "stdout",
     "output_type": "stream",
     "text": [
      "The autoreload extension is already loaded. To reload it, use:\n",
      "  %reload_ext autoreload\n"
     ]
    }
   ],
   "source": [
    "import warnings\n",
    "warnings.filterwarnings('ignore')\n",
    "\n",
    "import torch\n",
    "import transflate\n",
    "\n",
    "from transflate.data.token import load_tokenizers\n",
    "from transflate.data.vocab import load_vocab\n",
    "\n",
    "from transflate.data.dataloader import create_dataloaders\n",
    "from transflate.main import make_model\n",
    "from transflate.output import check_outputs\n",
    "\n",
    "from torch.utils.data import DataLoader\n",
    "\n",
    "\n",
    "%load_ext autoreload\n",
    "%autoreload 2"
   ]
  },
  {
   "cell_type": "code",
   "execution_count": 5,
   "metadata": {},
   "outputs": [
    {
     "name": "stdout",
     "output_type": "stream",
     "text": [
      "Building German Vocabulary ...\n",
      "Building English Vocabulary ...\n",
      "Finished.\n",
      "Vocabulary sizes:\n",
      "len: SRC=8315 TGT=6384\n"
     ]
    }
   ],
   "source": [
    "spacy_de, spacy_en = load_tokenizers()\n",
    "vocab_src, vocab_tgt = load_vocab(spacy_de=spacy_de, spacy_en=spacy_en)"
   ]
  },
  {
   "cell_type": "code",
   "execution_count": 14,
   "metadata": {},
   "outputs": [
    {
     "data": {
      "text/plain": [
       "<All keys matched successfully>"
      ]
     },
     "execution_count": 14,
     "metadata": {},
     "output_type": "execute_result"
    }
   ],
   "source": [
    "data_setup = {\n",
    "    'max_padding' : 128,\n",
    "}\n",
    "\n",
    "architecture = {\n",
    "        'src_vocab_len' : len(vocab_src),\n",
    "        'tgt_vocab_len' : len(vocab_tgt),\n",
    "        'N' : 6, # loop\n",
    "        'd_model' : 512, # emb\n",
    "        'd_ff' : 2048,\n",
    "        'h' : 8,\n",
    "        'p_dropout' : 0.1\n",
    "    }\n",
    "\n",
    "model = make_model(\n",
    "    src_vocab_len=architecture['src_vocab_len'],\n",
    "    tgt_vocab_len=architecture['tgt_vocab_len'],\n",
    "    N=architecture['N'],\n",
    "    d_model=architecture['d_model'],\n",
    "    d_ff=architecture['d_ff'],\n",
    "    h=architecture['h'],\n",
    "    dropout=architecture['p_dropout'],\n",
    "    )\n",
    "\n",
    "model.load_state_dict(\n",
    "    torch.load(\"../../multi30k_model_final.pt\", map_location=torch.device(\"cpu\"))\n",
    ")\n",
    "\n"
   ]
  },
  {
   "cell_type": "code",
   "execution_count": 35,
   "metadata": {},
   "outputs": [
    {
     "name": "stdout",
     "output_type": "stream",
     "text": [
      "Step.0 Raw text:  Vier Jungen spielen mit einem großen Hund im Hof\n",
      "Step.1 Processed text: \n",
      " tensor([[  0, 128,  92,  58,  10,   6,  80,  33,  22, 433,   1,   2,   2,   2,\n",
      "           2,   2,   2,   2,   2,   2,   2,   2,   2,   2,   2,   2,   2,   2,\n",
      "           2,   2,   2,   2,   2,   2,   2,   2,   2,   2,   2,   2,   2,   2,\n",
      "           2,   2,   2,   2,   2,   2,   2,   2,   2,   2,   2,   2,   2,   2,\n",
      "           2,   2,   2,   2,   2,   2,   2,   2,   2,   2,   2,   2,   2,   2,\n",
      "           2,   2,   2,   2,   2,   2,   2,   2,   2,   2,   2,   2,   2,   2,\n",
      "           2,   2,   2,   2,   2,   2,   2,   2,   2,   2,   2,   2,   2,   2,\n",
      "           2,   2,   2,   2,   2,   2,   2,   2,   2,   2,   2,   2,   2,   2,\n",
      "           2,   2,   2,   2,   2,   2,   2,   2,   2,   2,   2,   2,   2,   2,\n",
      "           2,   2]])\n"
     ]
    }
   ],
   "source": [
    "# input text\n",
    "text = \"Vier Jungen spielen mit einem großen Hund im Hof\"\n",
    "print('Step.0 Raw text: ', text)\n",
    "text = [(text, \"\")]\n",
    "\n",
    "tokenize_de = lambda text : [tok.text for tok in spacy_de.tokenizer(text)]\n",
    "tokenize_en = lambda text : [tok.text for tok in spacy_en.tokenizer(text)]\n",
    "\n",
    "collate_fn = lambda x:  transflate.collate_batch(\n",
    "            batch=x,\n",
    "            src_pipeline=tokenize_de,\n",
    "            tgt_pipeline=tokenize_en,\n",
    "            src_vocab=vocab_src,\n",
    "            tgt_vocab=vocab_tgt,\n",
    "            device=torch.device(\"cpu\"),\n",
    "            max_padding=data_setup['max_padding'],\n",
    "            pad_id=vocab_src.get_stoi()[\"<blank>\"],\n",
    "        )\n",
    "\n",
    "text_dataloader = DataLoader(text, collate_fn = collate_fn)\n",
    "print('Step.1 Processed text: \\n', list(text_dataloader)[0][0]) "
   ]
  },
  {
   "cell_type": "code",
   "execution_count": 41,
   "metadata": {},
   "outputs": [
    {
     "name": "stdout",
     "output_type": "stream",
     "text": [
      "Model output:  <s> Four boys are playing with a large dog in the yard . </s>\n"
     ]
    }
   ],
   "source": [
    "# check outputs\n",
    "pad_idx = 2\n",
    "eos_string=\"</s>\"\n",
    "\n",
    "b = next(iter(text_dataloader))\n",
    "rb = transflate.data.Batch.Batch(src=b[0], tgt=b[1], pad=pad_idx)\n",
    "\n",
    "model_out = transflate.output.greedy_decode(model, rb.src, rb.src_mask, max_len=72, start_symbol=0)[0]\n",
    "model_txt = (\" \".join([vocab_tgt.get_itos()[x] for x in model_out if x!= pad_idx]).split(eos_string, 1)[0] + eos_string)\n",
    "\n",
    "print('Model output: ', model_txt) # '<s> Four boys are playing with a large dog in the yard . </s>'\n"
   ]
  },
  {
   "cell_type": "markdown",
   "metadata": {},
   "source": [
    "# Break-Down : run_model_example\n",
    "## Step 1/3 : create dataloader"
   ]
  },
  {
   "cell_type": "code",
   "execution_count": 21,
   "metadata": {},
   "outputs": [],
   "source": [
    "# print tensor shapes\n",
    "mapa = { 1 : 1, 128 : 'max_padding', 512 : 'd_model',}"
   ]
  },
  {
   "cell_type": "code",
   "execution_count": 12,
   "metadata": {},
   "outputs": [],
   "source": [
    "from transflate.data.dataloader import create_dataloaders\n",
    "\n",
    "_, valid_dataloader = create_dataloaders(\n",
    "        device=torch.device(\"cpu\"),\n",
    "        vocab_src=vocab_src,\n",
    "        vocab_tgt=vocab_tgt,\n",
    "        spacy_de=spacy_de,\n",
    "        spacy_en=spacy_en,\n",
    "        batch_size=1,\n",
    "        max_padding = data_setup['max_padding'],\n",
    "        is_distributed=False,\n",
    "    )"
   ]
  },
  {
   "cell_type": "markdown",
   "metadata": {},
   "source": [
    "## Step 2/3 : create model and load its model state"
   ]
  },
  {
   "cell_type": "code",
   "execution_count": 13,
   "metadata": {},
   "outputs": [
    {
     "data": {
      "text/plain": [
       "<All keys matched successfully>"
      ]
     },
     "execution_count": 13,
     "metadata": {},
     "output_type": "execute_result"
    }
   ],
   "source": [
    "# outputs.run_model_example step 2/3 : create and load model state\n",
    "\n",
    "from transformers.main import make_model\n",
    "\n",
    "\n",
    "model = make_model(len(vocab_src), len(vocab_tgt), N=6) # d_model=512, d_ff=2048, h=8\n",
    "model.load_state_dict(\n",
    "        torch.load(\"multi30k_model_final.pt\", map_location=torch.device(\"cpu\"))\n",
    "    )"
   ]
  },
  {
   "cell_type": "markdown",
   "metadata": {},
   "source": [
    "## Step 3/3 Break-Down : check_outputs"
   ]
  },
  {
   "cell_type": "code",
   "execution_count": 22,
   "metadata": {},
   "outputs": [
    {
     "name": "stdout",
     "output_type": "stream",
     "text": [
      "Source text (Input) ['<s>', 'Ein', 'Mann', 'im', 'mittleren', 'Alter', 'legt', 'am', 'Knie', 'eines', 'jüngeren', '<unk>', ',', 'der', 'auf', 'einem', '<unk>', 'sitzt', ',', 'einen', '<unk>', 'an', '.', '</s>']\n",
      "Target Text (Ground Truth) ['<s>', 'A', 'middle', '-', 'aged', 'man', 'is', 'taping', 'up', 'the', 'knee', 'of', 'a', 'younger', 'football', 'player', 'who', 'is', 'sitting', 'on', 'a', '<unk>', 'table', '.', '</s>']\n"
     ]
    }
   ],
   "source": [
    "# outputs.run_model_example step 3/3 : check_outputs\n",
    "\n",
    "from transformers.data.Batch import Batch\n",
    "\n",
    "n_examples=5\n",
    "pad_idx = 2\n",
    "eos_string = \"</s>\"\n",
    "\n",
    "results = [()] * n_examples\n",
    "\n",
    "idx = 0 # example 0 in range(len(n_examples))\n",
    "b = next(iter(valid_dataloader))\n",
    "rb = Batch(src=b[0], tgt=b[1], pad=2)\n",
    "\n",
    "src_tokens = [vocab_src.get_itos()[x] for x in rb.src[0] if x!=pad_idx]\n",
    "tgt_tokens = [vocab_tgt.get_itos()[x] for x in rb.tgt[0] if x!=pad_idx]\n",
    "\n",
    "print(f\"Source text (Input) {src_tokens}\")\n",
    "print(f\"Target Text (Ground Truth) {tgt_tokens}\")"
   ]
  },
  {
   "cell_type": "markdown",
   "metadata": {},
   "source": [
    "## 3-Substep 1/3 output.greedy_decode"
   ]
  },
  {
   "cell_type": "code",
   "execution_count": 23,
   "metadata": {},
   "outputs": [
    {
     "name": "stdout",
     "output_type": "stream",
     "text": [
      "src.shape= [1, 'max_padding']\n",
      "src_mask.shape= [1, 1, 'max_padding']\n",
      "memory.shape= [1, 'max_padding', 'd_model']\n",
      "out.shape= [1, 1, 'd_model']\n"
     ]
    }
   ],
   "source": [
    "from transformers.helper import following_mask\n",
    "\n",
    "b\n",
    "src = rb.src\n",
    "print('src.shape=', [mapa[e] for e in src.shape])\n",
    "src_mask = rb.src_mask\n",
    "print('src_mask.shape=', [mapa[e] for e in src_mask.shape])\n",
    "max_len = 72\n",
    "start_symbol = 0\n",
    "\n",
    "memory = model.encode(src, src_mask)\n",
    "print('memory.shape=', [mapa[e] for e in memory.shape])\n",
    "\n",
    "tgt=torch.zeros(1, 1).fill_(start_symbol).type_as(src.data)\n",
    "\n",
    "i = 0 # in range(72 - 1)\n",
    "out = model.decode(memory, src_mask, tgt, following_mask(tgt.size(1)).type_as(src.data))\n",
    "print('out.shape=', [mapa[e] for e in out.shape])"
   ]
  },
  {
   "cell_type": "code",
   "execution_count": null,
   "metadata": {},
   "outputs": [],
   "source": []
  }
 ],
 "metadata": {
  "colab": {
   "authorship_tag": "ABX9TyMBa/2JyW7GewSx6ZS912U7",
   "collapsed_sections": [],
   "provenance": []
  },
  "kernelspec": {
   "display_name": "Python 3.10.6 ('venvai')",
   "language": "python",
   "name": "python3"
  },
  "language_info": {
   "codemirror_mode": {
    "name": "ipython",
    "version": 3
   },
   "file_extension": ".py",
   "mimetype": "text/x-python",
   "name": "python",
   "nbconvert_exporter": "python",
   "pygments_lexer": "ipython3",
   "version": "3.11.3"
  },
  "vscode": {
   "interpreter": {
    "hash": "0159b81555e194df7357f3ec66ac7a725116f7bdd06d05856166e90d27da3b92"
   }
  }
 },
 "nbformat": 4,
 "nbformat_minor": 1
}
